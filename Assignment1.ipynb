{
 "cells": [
  {
   "cell_type": "code",
   "execution_count": 1,
   "id": "eb39afed-c07c-4759-948b-98299932b6a8",
   "metadata": {},
   "outputs": [],
   "source": [
    "#Write a program to accept percentage from the user and diply the grade according to the following criteria:"
   ]
  },
  {
   "cell_type": "code",
   "execution_count": 2,
   "id": "3cd107e8-930d-44cd-8850-8de7aef68a62",
   "metadata": {},
   "outputs": [
    {
     "name": "stdin",
     "output_type": "stream",
     "text": [
      "Enter your marks:  99\n"
     ]
    },
    {
     "name": "stdout",
     "output_type": "stream",
     "text": [
      "Grade: A\n"
     ]
    }
   ],
   "source": [
    "marks = int(input(\"Enter your marks: \"))\n",
    "if marks>90:\n",
    "    print(\"Grade: A\")\n",
    "elif marks>80 and marks<=90:\n",
    "    print(\"Grade: B\")\n",
    "elif  marks>=60 and marks<=80:\n",
    "    print(\"Grade: C\")\n",
    "else:\n",
    "    print(\"Grade: D\")"
   ]
  },
  {
   "cell_type": "code",
   "execution_count": 3,
   "id": "a11fd216-7936-4989-9ae2-f60a4e706112",
   "metadata": {},
   "outputs": [],
   "source": [
    "#Write a program to accept the cost price of a bike and display the road tax to be paid according to the following criteria: "
   ]
  },
  {
   "cell_type": "code",
   "execution_count": 4,
   "id": "7ea99b73-619b-4a5e-b404-831f3a606969",
   "metadata": {},
   "outputs": [
    {
     "name": "stdin",
     "output_type": "stream",
     "text": [
      "The cost price of a bike: 40000\n"
     ]
    },
    {
     "name": "stdout",
     "output_type": "stream",
     "text": [
      "Tax : 5%\n"
     ]
    }
   ],
   "source": [
    "cost_price = int(input(\"The cost price of a bike:\"))\n",
    "if cost_price>100000:\n",
    "    print(\"Tax : 15%\")\n",
    "elif cost_price>50000 and cost_price <= 100000:\n",
    "    print(\"Tax : 10%\")\n",
    "else:\n",
    "    print(\"Tax : 5%\")"
   ]
  },
  {
   "cell_type": "code",
   "execution_count": 5,
   "id": "458591a5-139e-454a-ba74-2b4c30725dc2",
   "metadata": {},
   "outputs": [],
   "source": [
    "#Accept any city from the user and display monuments of that city"
   ]
  },
  {
   "cell_type": "code",
   "execution_count": 6,
   "id": "6158237c-bacd-4946-ac11-efcc554bfa60",
   "metadata": {},
   "outputs": [
    {
     "name": "stdin",
     "output_type": "stream",
     "text": [
      "Enter any city :  Delhi\n"
     ]
    },
    {
     "name": "stdout",
     "output_type": "stream",
     "text": [
      "Monuments : Red Fort\n"
     ]
    }
   ],
   "source": [
    "city = input(\"Enter any city : \")\n",
    "if city == \"Delhi\":\n",
    "    print(\"Monuments : Red Fort\")\n",
    "elif city == \"Agra\":\n",
    "    print(\"Monuments : Taj Mahal\")\n",
    "elif city == \"Jaipur\":\n",
    "    print(\"Monuments : Jal Mahal\")\n",
    "else:\n",
    "    print(\"this city is not in listed\")"
   ]
  },
  {
   "cell_type": "code",
   "execution_count": 7,
   "id": "c35e2205-4a23-4440-86d5-85615a81656c",
   "metadata": {},
   "outputs": [],
   "source": [
    "#Check how many times a given number can be divided by 3 before it is less than or equal to 10"
   ]
  },
  {
   "cell_type": "code",
   "execution_count": 8,
   "id": "7cae2037-b5f8-4b61-9d50-f42d375dbf82",
   "metadata": {},
   "outputs": [
    {
     "name": "stdout",
     "output_type": "stream",
     "text": [
      "3\n",
      "6\n",
      "9\n"
     ]
    }
   ],
   "source": [
    "for i in range(1,11):\n",
    "    if i % 3 == 0:\n",
    "        print(i)\n",
    "       "
   ]
  },
  {
   "cell_type": "code",
   "execution_count": 9,
   "id": "5c180779-f96a-441a-b73e-8a9293868509",
   "metadata": {},
   "outputs": [],
   "source": [
    "#Why and when to use while loop in python give a detailed description with example"
   ]
  },
  {
   "cell_type": "code",
   "execution_count": 10,
   "id": "c310de0a-0150-4a43-b40f-e5134ebe7aa0",
   "metadata": {},
   "outputs": [],
   "source": [
    "#While loop: we should use a while loop when we need to repeat a block of code until a certain condition "
   ]
  },
  {
   "cell_type": "code",
   "execution_count": 11,
   "id": "24753ebf-9a19-4adb-9e8a-49320e9108ce",
   "metadata": {},
   "outputs": [
    {
     "name": "stdout",
     "output_type": "stream",
     "text": [
      "0\n",
      "1\n",
      "2\n",
      "3\n",
      "4\n"
     ]
    }
   ],
   "source": [
    "#initialize the variable\n",
    "i = 0 \n",
    "#while loop from 0 to 5\n",
    "while i < 5: \n",
    "    print(i) \n",
    "    i += 1"
   ]
  },
  {
   "cell_type": "code",
   "execution_count": 12,
   "id": "790f3336-6c2d-498f-aa90-8e948a26d304",
   "metadata": {},
   "outputs": [],
   "source": [
    "#Use nested while loop to print 3 different pattern."
   ]
  },
  {
   "cell_type": "code",
   "execution_count": 13,
   "id": "8498376f-0c20-49c0-8df1-4b869855e69b",
   "metadata": {},
   "outputs": [
    {
     "name": "stdout",
     "output_type": "stream",
     "text": [
      "1\n",
      "12\n",
      "123\n",
      "1234\n",
      "12345\n"
     ]
    }
   ],
   "source": [
    "i = 1 \n",
    "while i <= 5: \n",
    "    j = 1 \n",
    "    while j <= i: \n",
    "    \tprint(j, end='') \n",
    "    \tj += 1\n",
    "    print(\"\")\n",
    "    i += 1"
   ]
  },
  {
   "cell_type": "code",
   "execution_count": 14,
   "id": "ef0db20d-7f88-4799-8d50-0384e075a8ab",
   "metadata": {},
   "outputs": [
    {
     "name": "stdout",
     "output_type": "stream",
     "text": [
      "*\n",
      "**\n",
      "***\n",
      "****\n",
      "*****\n"
     ]
    }
   ],
   "source": [
    "i = 1\n",
    "while i <= 5:\n",
    "    j = 1\n",
    "    while j <= i:\n",
    "        print (\"*\",end='')\n",
    "        j +=1\n",
    "    print(\"\")\n",
    "    i +=1"
   ]
  },
  {
   "cell_type": "code",
   "execution_count": 15,
   "id": "3c814942-6c48-4812-98f8-e52c701635a2",
   "metadata": {},
   "outputs": [
    {
     "name": "stdout",
     "output_type": "stream",
     "text": [
      "*****\n",
      "****\n",
      "***\n",
      "**\n",
      "*\n"
     ]
    }
   ],
   "source": [
    "i = 5 \n",
    "while i >= 1: \n",
    "    j = 1 \n",
    "    while j <= i: \n",
    "        print('*', end='') \n",
    "        j += 1 \n",
    "    print() \n",
    "    i -= 1 "
   ]
  },
  {
   "cell_type": "code",
   "execution_count": 16,
   "id": "53e2250d-797b-465d-85fc-aee69be4a235",
   "metadata": {},
   "outputs": [
    {
     "name": "stdout",
     "output_type": "stream",
     "text": [
      "1\n",
      "22\n",
      "333\n",
      "4444\n",
      "55555\n"
     ]
    }
   ],
   "source": [
    "i = 1\n",
    "while i <=5:\n",
    "    j = 1\n",
    "    while j<=i:\n",
    "        print(i, end=\"\")\n",
    "        j +=1\n",
    "    print()\n",
    "    i +=1"
   ]
  },
  {
   "cell_type": "code",
   "execution_count": 17,
   "id": "d449f57b-934d-476a-b8b9-fecf27045fed",
   "metadata": {},
   "outputs": [],
   "source": [
    "#Reverse a while loop to display numbers from 10 to 1"
   ]
  },
  {
   "cell_type": "code",
   "execution_count": 18,
   "id": "b2b551ab-cf4f-4f3f-adc2-c0d3ea727d83",
   "metadata": {},
   "outputs": [
    {
     "name": "stdout",
     "output_type": "stream",
     "text": [
      "10\n",
      "9\n",
      "8\n",
      "7\n",
      "6\n",
      "5\n",
      "4\n",
      "3\n",
      "2\n",
      "1\n"
     ]
    }
   ],
   "source": [
    "num = 10\n",
    "while num >=1:\n",
    "    print(num)\n",
    "    num -=1"
   ]
  },
  {
   "cell_type": "code",
   "execution_count": null,
   "id": "0261894f-d035-441d-8dfd-4aad37a217f8",
   "metadata": {},
   "outputs": [],
   "source": []
  }
 ],
 "metadata": {
  "kernelspec": {
   "display_name": "Python 3 (ipykernel)",
   "language": "python",
   "name": "python3"
  },
  "language_info": {
   "codemirror_mode": {
    "name": "ipython",
    "version": 3
   },
   "file_extension": ".py",
   "mimetype": "text/x-python",
   "name": "python",
   "nbconvert_exporter": "python",
   "pygments_lexer": "ipython3",
   "version": "3.10.8"
  }
 },
 "nbformat": 4,
 "nbformat_minor": 5
}
